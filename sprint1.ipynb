{
 "cells": [
  {
   "cell_type": "code",
   "execution_count": 1,
   "metadata": {},
   "outputs": [],
   "source": [
    "%matplotlib inline\n",
    "import matplotlib.pyplot as plt\n",
    "\n",
    "import glob\n",
    "\n",
    "import numpy as np\n",
    "import pandas as pd\n",
    "\n",
    "from sklearn.metrics import accuracy_score\n",
    "from sklearn.metrics import ConfusionMatrixDisplay\n",
    "from sklearn.pipeline import make_pipeline\n",
    "from sklearn.preprocessing import StandardScaler\n",
    "from sklearn.model_selection import GridSearchCV\n",
    "\n",
    "from sklearn.linear_model import LogisticRegression\n",
    "from sklearn.naive_bayes import GaussianNB\n",
    "from sklearn.ensemble import RandomForestClassifier\n",
    "from sklearn.svm import LinearSVC"
   ]
  },
  {
   "cell_type": "code",
   "execution_count": 2,
   "metadata": {},
   "outputs": [],
   "source": [
    "# function used to read the action files\n",
    "def get_rows_for_file(file):\n",
    "    data = np.load(file)\n",
    "    nb_frames, nb_points, nb_values = data.shape\n",
    "\n",
    "    res = np.empty((nb_frames, nb_points * nb_values + 1))\n",
    "\n",
    "    # set features\n",
    "    res[:,:-1] = data.reshape((nb_frames, nb_points * nb_values))\n",
    "\n",
    "    # set labels\n",
    "    parts = file.split('-')\n",
    "    action_idx = int(parts[1])\n",
    "    res[:,-1] = action_idx\n",
    "\n",
    "    return res"
   ]
  },
  {
   "cell_type": "code",
   "execution_count": 3,
   "metadata": {},
   "outputs": [
    {
     "data": {
      "text/plain": [
       "(182700, 55)"
      ]
     },
     "execution_count": 3,
     "metadata": {},
     "output_type": "execute_result"
    }
   ],
   "source": [
    "# don't forget to change the files path\n",
    "files = 'actions/*.npy';\n",
    "Xy = np.vstack([get_rows_for_file(filename) for filename in glob.glob(files)])\n",
    "Xy.shape\n",
    "\n",
    "# 54 features, the last column is for the label of each action"
   ]
  },
  {
   "cell_type": "markdown",
   "metadata": {},
   "source": [
    "#### Check to see if the data is balanced"
   ]
  },
  {
   "cell_type": "code",
   "execution_count": 4,
   "metadata": {},
   "outputs": [
    {
     "data": {
      "text/plain": [
       "54\n",
       "0.0    26100\n",
       "1.0    26100\n",
       "2.0    26100\n",
       "3.0    26100\n",
       "4.0    26100\n",
       "5.0    26100\n",
       "6.0    26100\n",
       "dtype: int64"
      ]
     },
     "execution_count": 4,
     "metadata": {},
     "output_type": "execute_result"
    }
   ],
   "source": [
    "df = pd.DataFrame(Xy)\n",
    "\n",
    "df.groupby([54]).size()"
   ]
  },
  {
   "cell_type": "markdown",
   "metadata": {},
   "source": [
    "We can see in the output from above that the data is balanced. Every action has the same amount of data points."
   ]
  },
  {
   "cell_type": "markdown",
   "metadata": {},
   "source": [
    "#### Compute the ranges of every feature "
   ]
  },
  {
   "cell_type": "code",
   "execution_count": 5,
   "metadata": {},
   "outputs": [
    {
     "data": {
      "text/html": [
       "<div>\n",
       "<style scoped>\n",
       "    .dataframe tbody tr th:only-of-type {\n",
       "        vertical-align: middle;\n",
       "    }\n",
       "\n",
       "    .dataframe tbody tr th {\n",
       "        vertical-align: top;\n",
       "    }\n",
       "\n",
       "    .dataframe thead th {\n",
       "        text-align: right;\n",
       "    }\n",
       "</style>\n",
       "<table border=\"1\" class=\"dataframe\">\n",
       "  <thead>\n",
       "    <tr style=\"text-align: right;\">\n",
       "      <th></th>\n",
       "      <th>0</th>\n",
       "      <th>1</th>\n",
       "      <th>2</th>\n",
       "      <th>3</th>\n",
       "      <th>4</th>\n",
       "      <th>5</th>\n",
       "      <th>6</th>\n",
       "      <th>7</th>\n",
       "      <th>8</th>\n",
       "      <th>9</th>\n",
       "      <th>...</th>\n",
       "      <th>45</th>\n",
       "      <th>46</th>\n",
       "      <th>47</th>\n",
       "      <th>48</th>\n",
       "      <th>49</th>\n",
       "      <th>50</th>\n",
       "      <th>51</th>\n",
       "      <th>52</th>\n",
       "      <th>53</th>\n",
       "      <th>54</th>\n",
       "    </tr>\n",
       "  </thead>\n",
       "  <tbody>\n",
       "    <tr>\n",
       "      <th>min</th>\n",
       "      <td>-80.000000</td>\n",
       "      <td>0.439392</td>\n",
       "      <td>0.092422</td>\n",
       "      <td>-34.166667</td>\n",
       "      <td>22.480475</td>\n",
       "      <td>0.076566</td>\n",
       "      <td>-4.078280</td>\n",
       "      <td>25.186407</td>\n",
       "      <td>0.089867</td>\n",
       "      <td>5.534295</td>\n",
       "      <td>...</td>\n",
       "      <td>-80.000000</td>\n",
       "      <td>-56.138519</td>\n",
       "      <td>0.077887</td>\n",
       "      <td>-80.000000</td>\n",
       "      <td>0.439392</td>\n",
       "      <td>0.116977</td>\n",
       "      <td>-80.000000</td>\n",
       "      <td>-54.953247</td>\n",
       "      <td>0.073645</td>\n",
       "      <td>0.0</td>\n",
       "    </tr>\n",
       "    <tr>\n",
       "      <th>max</th>\n",
       "      <td>666.584843</td>\n",
       "      <td>449.350948</td>\n",
       "      <td>1.117455</td>\n",
       "      <td>717.916667</td>\n",
       "      <td>392.957605</td>\n",
       "      <td>1.006780</td>\n",
       "      <td>717.916667</td>\n",
       "      <td>398.835165</td>\n",
       "      <td>1.013592</td>\n",
       "      <td>717.916667</td>\n",
       "      <td>...</td>\n",
       "      <td>659.199667</td>\n",
       "      <td>532.954766</td>\n",
       "      <td>1.151310</td>\n",
       "      <td>652.732093</td>\n",
       "      <td>531.298228</td>\n",
       "      <td>1.118400</td>\n",
       "      <td>659.418871</td>\n",
       "      <td>532.954766</td>\n",
       "      <td>1.151565</td>\n",
       "      <td>6.0</td>\n",
       "    </tr>\n",
       "  </tbody>\n",
       "</table>\n",
       "<p>2 rows × 55 columns</p>\n",
       "</div>"
      ],
      "text/plain": [
       "             0           1         2           3           4         5   \\\n",
       "min  -80.000000    0.439392  0.092422  -34.166667   22.480475  0.076566   \n",
       "max  666.584843  449.350948  1.117455  717.916667  392.957605  1.006780   \n",
       "\n",
       "             6           7         8           9   ...          45  \\\n",
       "min   -4.078280   25.186407  0.089867    5.534295  ...  -80.000000   \n",
       "max  717.916667  398.835165  1.013592  717.916667  ...  659.199667   \n",
       "\n",
       "             46        47          48          49        50          51  \\\n",
       "min  -56.138519  0.077887  -80.000000    0.439392  0.116977  -80.000000   \n",
       "max  532.954766  1.151310  652.732093  531.298228  1.118400  659.418871   \n",
       "\n",
       "             52        53   54  \n",
       "min  -54.953247  0.073645  0.0  \n",
       "max  532.954766  1.151565  6.0  \n",
       "\n",
       "[2 rows x 55 columns]"
      ]
     },
     "execution_count": 5,
     "metadata": {},
     "output_type": "execute_result"
    }
   ],
   "source": [
    "(pd.concat([df.min(), df.max()], axis=1).rename(columns={0:\"min\", 1:\"max\"})).transpose()"
   ]
  },
  {
   "cell_type": "markdown",
   "metadata": {},
   "source": [
    "## Split the data"
   ]
  },
  {
   "cell_type": "code",
   "execution_count": 6,
   "metadata": {},
   "outputs": [
    {
     "data": {
      "text/plain": [
       "((144900, 55), (37800, 55))"
      ]
     },
     "execution_count": 6,
     "metadata": {},
     "output_type": "execute_result"
    }
   ],
   "source": [
    "# don't forget to change the files path\n",
    "files = 'actions/*group-[1-9]-*.npy';\n",
    "files_2 = 'actions/*group-1[0-6]-*.npy';\n",
    "Xy = np.vstack([get_rows_for_file(filename) for filename in glob.glob(files)])\n",
    "Xy_2 = np.vstack([get_rows_for_file(filename) for filename in glob.glob(files_2)])\n",
    "\n",
    "Xy = np.concatenate([Xy,Xy_2])\n",
    "files_test = 'actions/*group-1[7-9]-*.npy';\n",
    "files_test_2 = 'actions/*group-20-*.npy';\n",
    "Xy_test = np.vstack([get_rows_for_file(filename) for filename in glob.glob(files_test)])\n",
    "Xy_test_2 = np.vstack([get_rows_for_file(filename) for filename in glob.glob(files_test_2)])\n",
    "\n",
    "Xy_test = np.concatenate([Xy_test,Xy_test_2])\n",
    "Xy.shape, Xy_test.shape\n",
    "\n",
    "# 54 features, the last column is the label of each action"
   ]
  },
  {
   "cell_type": "markdown",
   "metadata": {},
   "source": [
    "We split the data using a 16-4 split, 80% for training and 20% test data, by splitting on the groups we ensure every frame from a single recording is present in the same partition."
   ]
  },
  {
   "cell_type": "markdown",
   "metadata": {},
   "source": [
    "## Preprocessing"
   ]
  },
  {
   "cell_type": "code",
   "execution_count": 7,
   "metadata": {},
   "outputs": [],
   "source": [
    "X = Xy[:, :-1]\n",
    "y = Xy[:, -1]"
   ]
  },
  {
   "cell_type": "markdown",
   "metadata": {},
   "source": [
    "## Machine learning algorithms, hyperparameters choice and training"
   ]
  },
  {
   "cell_type": "markdown",
   "metadata": {},
   "source": [
    "##### Logistic Regression\n",
    "Logistic regression belongs to the family of linear models and is specifically used for  classification tasks. It is a type of supervised learning algorithm that models the probability of a binary outcome based on one or more predictor variables. While traditionally used for binary outcomes, it can be extended to multiclass classification problems.\n",
    "\n",
    "Logistic regression is easy to implement and interpret and it is quick to train. It works very well when the relationship between the features and the class labels is approximately linear. \n",
    "\n",
    "The main problem is that this algorithm assumes a linear relationship between the input features and the odds of the outcome. This can limit its effectiveness if the true relationship is non linear.  The model is also sensitive to outliers, which can distort the estimation of the regression coefficients.\n",
    "\n",
    "##### Random Forest\n",
    "Random Forest is an ensemble learning method that belongs to the family of decision tree algorithms. Specifically, it is a type of bagging method that combines the predictions from multiple decision trees to improve accuracy and control overfitting. It falls under the category of supervised learning, primarily used for classification and regression tasks.\n",
    "\n",
    "Because the model averages the results of many trees it is very robust. The model is also capable of handling a large number of  features without feature selection, making it suitable for complex datasets. On top of that the model provides insights into feature importance, helping to understand which features are most influential in predictions.\n",
    "\n",
    "There are also a couple of disadvantages: longer training time than other algorithms within the family and a lot of memory usage due to the storage of multiple trees. Both of these will be a concern with large datasets.\n",
    "\n",
    "##### Gaussian Naive Bayes\n",
    "The Gaussian Naive Bayes method is a supervised learning algorithm based on applying Bayes’ theorem and is popular for classification tasks. It is termed \"naive\" because it assumes that the features used for prediction are conditionally independent given the class label.\n",
    "\n",
    "This algorithm works well with high-dimensional data, so it should perform decently well even though there are a lot of features given the amount of examples.\n",
    "\n",
    "Another positive aspect of this algorithm is that it is said to perform well with limited data.\n",
    "\n",
    "The two main disadvantages are the fact that it is assumed that features are independent, which is not the case here. Also the model may not capture complex relationships in the data due to its simplistic approach."
   ]
  },
  {
   "cell_type": "markdown",
   "metadata": {},
   "source": [
    "### Training an SVM"
   ]
  },
  {
   "cell_type": "markdown",
   "metadata": {},
   "source": [
    "Preparing the test data"
   ]
  },
  {
   "cell_type": "code",
   "execution_count": 8,
   "metadata": {},
   "outputs": [],
   "source": [
    "X_test = Xy_test[:, :-1]\n",
    "y_test = Xy_test[:, -1]"
   ]
  },
  {
   "cell_type": "code",
   "execution_count": 9,
   "metadata": {},
   "outputs": [
    {
     "name": "stdout",
     "output_type": "stream",
     "text": [
      "Best Parameters: {'linearsvc__C': 1, 'linearsvc__max_iter': 200}\n",
      "Best Cross-Validation Score: 0.7028364389233954\n"
     ]
    }
   ],
   "source": [
    "pipeline = make_pipeline(StandardScaler(), LinearSVC())\n",
    "\n",
    "param_grid = {\n",
    "    'linearsvc__max_iter': [200, 500, 1000, 1500],\n",
    "    'linearsvc__C': [ 0.01, 0.1, 1, 10],\n",
    "}\n",
    "\n",
    "clf = GridSearchCV(pipeline, param_grid, cv=5)\n",
    "\n",
    "clf.fit(X,y)\n",
    "\n",
    "# Best parameters and best score\n",
    "print(\"Best Parameters:\", clf.best_params_)\n",
    "print(\"Best Cross-Validation Score:\", clf.best_score_)"
   ]
  },
  {
   "cell_type": "code",
   "execution_count": 24,
   "metadata": {},
   "outputs": [
    {
     "data": {
      "text/plain": [
       "0.7084656084656085"
      ]
     },
     "execution_count": 24,
     "metadata": {},
     "output_type": "execute_result"
    }
   ],
   "source": [
    "clf = make_pipeline(StandardScaler(), LinearSVC(C=1, max_iter=200))\n",
    "clf.fit(X,y)\n",
    "accuracy_score(y_test, clf.predict(X_test))"
   ]
  },
  {
   "cell_type": "markdown",
   "metadata": {},
   "source": [
    "We can see that using StandardScaler to Standardize the data the classifier makes better predictions on the test data. When using minmax normalization, the classifier performd way worse because an SVM uses distance calculations. If a feature is compressed using minmax scaling, it influences the calculation of the gradient, reducing the performance."
   ]
  },
  {
   "cell_type": "code",
   "execution_count": 22,
   "metadata": {},
   "outputs": [
    {
     "data": {
      "image/png": "[encoded data removed]",
      "text/plain": [
       "<Figure size 640x480 with 2 Axes>"
      ]
     },
     "metadata": {},
     "output_type": "display_data"
    }
   ],
   "source": [
    "labels = [\n",
    "    'jumping jack',\n",
    "    'squat',\n",
    "    'in-place running',\n",
    "    'side lunge',\n",
    "    'boxing',\n",
    "    'overhead press',\n",
    "    'bicep curl'\n",
    "]\n",
    "\n",
    "\n",
    "disp = ConfusionMatrixDisplay.from_estimator(\n",
    "    clf,X_test,y_test,display_labels=labels, xticks_rotation='vertical')\n",
    "\n",
    "plt.show()"
   ]
  },
  {
   "cell_type": "markdown",
   "metadata": {},
   "source": [
    "In-place running and squat are the actions most confused, we think that is because those movements look alike because the legs are in a 90 degrees position. \n",
    "The overhead press is the distinctively different from the others because it is the only one with the arm straight above the head."
   ]
  },
  {
   "cell_type": "markdown",
   "metadata": {},
   "source": [
    "### Training the classifier using Logistic Regression"
   ]
  },
  {
   "cell_type": "code",
   "execution_count": 12,
   "metadata": {},
   "outputs": [
    {
     "name": "stderr",
     "output_type": "stream",
     "text": [
      "c:\\Users\\adeli\\AppData\\Local\\Programs\\Python\\Python312\\Lib\\site-packages\\sklearn\\linear_model\\_logistic.py:469: ConvergenceWarning: lbfgs failed to converge (status=1):\n",
      "STOP: TOTAL NO. of ITERATIONS REACHED LIMIT.\n",
      "\n",
      "Increase the number of iterations (max_iter) or scale the data as shown in:\n",
      "    https://scikit-learn.org/stable/modules/preprocessing.html\n",
      "Please also refer to the documentation for alternative solver options:\n",
      "    https://scikit-learn.org/stable/modules/linear_model.html#logistic-regression\n",
      "  n_iter_i = _check_optimize_result(\n",
      "c:\\Users\\adeli\\AppData\\Local\\Programs\\Python\\Python312\\Lib\\site-packages\\sklearn\\linear_model\\_logistic.py:469: ConvergenceWarning: lbfgs failed to converge (status=1):\n",
      "STOP: TOTAL NO. of ITERATIONS REACHED LIMIT.\n",
      "\n",
      "Increase the number of iterations (max_iter) or scale the data as shown in:\n",
      "    https://scikit-learn.org/stable/modules/preprocessing.html\n",
      "Please also refer to the documentation for alternative solver options:\n",
      "    https://scikit-learn.org/stable/modules/linear_model.html#logistic-regression\n",
      "  n_iter_i = _check_optimize_result(\n",
      "c:\\Users\\adeli\\AppData\\Local\\Programs\\Python\\Python312\\Lib\\site-packages\\sklearn\\linear_model\\_logistic.py:469: ConvergenceWarning: lbfgs failed to converge (status=1):\n",
      "STOP: TOTAL NO. of ITERATIONS REACHED LIMIT.\n",
      "\n",
      "Increase the number of iterations (max_iter) or scale the data as shown in:\n",
      "    https://scikit-learn.org/stable/modules/preprocessing.html\n",
      "Please also refer to the documentation for alternative solver options:\n",
      "    https://scikit-learn.org/stable/modules/linear_model.html#logistic-regression\n",
      "  n_iter_i = _check_optimize_result(\n",
      "c:\\Users\\adeli\\AppData\\Local\\Programs\\Python\\Python312\\Lib\\site-packages\\sklearn\\linear_model\\_logistic.py:469: ConvergenceWarning: lbfgs failed to converge (status=1):\n",
      "STOP: TOTAL NO. of ITERATIONS REACHED LIMIT.\n",
      "\n",
      "Increase the number of iterations (max_iter) or scale the data as shown in:\n",
      "    https://scikit-learn.org/stable/modules/preprocessing.html\n",
      "Please also refer to the documentation for alternative solver options:\n",
      "    https://scikit-learn.org/stable/modules/linear_model.html#logistic-regression\n",
      "  n_iter_i = _check_optimize_result(\n",
      "c:\\Users\\adeli\\AppData\\Local\\Programs\\Python\\Python312\\Lib\\site-packages\\sklearn\\linear_model\\_logistic.py:469: ConvergenceWarning: lbfgs failed to converge (status=1):\n",
      "STOP: TOTAL NO. of ITERATIONS REACHED LIMIT.\n",
      "\n",
      "Increase the number of iterations (max_iter) or scale the data as shown in:\n",
      "    https://scikit-learn.org/stable/modules/preprocessing.html\n",
      "Please also refer to the documentation for alternative solver options:\n",
      "    https://scikit-learn.org/stable/modules/linear_model.html#logistic-regression\n",
      "  n_iter_i = _check_optimize_result(\n",
      "c:\\Users\\adeli\\AppData\\Local\\Programs\\Python\\Python312\\Lib\\site-packages\\sklearn\\linear_model\\_logistic.py:469: ConvergenceWarning: lbfgs failed to converge (status=1):\n",
      "STOP: TOTAL NO. of ITERATIONS REACHED LIMIT.\n",
      "\n",
      "Increase the number of iterations (max_iter) or scale the data as shown in:\n",
      "    https://scikit-learn.org/stable/modules/preprocessing.html\n",
      "Please also refer to the documentation for alternative solver options:\n",
      "    https://scikit-learn.org/stable/modules/linear_model.html#logistic-regression\n",
      "  n_iter_i = _check_optimize_result(\n",
      "c:\\Users\\adeli\\AppData\\Local\\Programs\\Python\\Python312\\Lib\\site-packages\\sklearn\\linear_model\\_logistic.py:469: ConvergenceWarning: lbfgs failed to converge (status=1):\n",
      "STOP: TOTAL NO. of ITERATIONS REACHED LIMIT.\n",
      "\n",
      "Increase the number of iterations (max_iter) or scale the data as shown in:\n",
      "    https://scikit-learn.org/stable/modules/preprocessing.html\n",
      "Please also refer to the documentation for alternative solver options:\n",
      "    https://scikit-learn.org/stable/modules/linear_model.html#logistic-regression\n",
      "  n_iter_i = _check_optimize_result(\n",
      "c:\\Users\\adeli\\AppData\\Local\\Programs\\Python\\Python312\\Lib\\site-packages\\sklearn\\linear_model\\_logistic.py:469: ConvergenceWarning: lbfgs failed to converge (status=1):\n",
      "STOP: TOTAL NO. of ITERATIONS REACHED LIMIT.\n",
      "\n",
      "Increase the number of iterations (max_iter) or scale the data as shown in:\n",
      "    https://scikit-learn.org/stable/modules/preprocessing.html\n",
      "Please also refer to the documentation for alternative solver options:\n",
      "    https://scikit-learn.org/stable/modules/linear_model.html#logistic-regression\n",
      "  n_iter_i = _check_optimize_result(\n"
     ]
    },
    {
     "name": "stdout",
     "output_type": "stream",
     "text": [
      "Best Parameters: {'logisticregression__C': 100, 'logisticregression__max_iter': 500}\n",
      "Best Cross-Validation Score: 0.6956038647342995\n"
     ]
    },
    {
     "name": "stderr",
     "output_type": "stream",
     "text": [
      "c:\\Users\\adeli\\AppData\\Local\\Programs\\Python\\Python312\\Lib\\site-packages\\sklearn\\linear_model\\_logistic.py:469: ConvergenceWarning: lbfgs failed to converge (status=1):\n",
      "STOP: TOTAL NO. of ITERATIONS REACHED LIMIT.\n",
      "\n",
      "Increase the number of iterations (max_iter) or scale the data as shown in:\n",
      "    https://scikit-learn.org/stable/modules/preprocessing.html\n",
      "Please also refer to the documentation for alternative solver options:\n",
      "    https://scikit-learn.org/stable/modules/linear_model.html#logistic-regression\n",
      "  n_iter_i = _check_optimize_result(\n"
     ]
    }
   ],
   "source": [
    "pipeline = make_pipeline(StandardScaler(), LogisticRegression())\n",
    "\n",
    "param_grid = {\n",
    "    'logisticregression__max_iter': [500, 1000, 1500],\n",
    "    'logisticregression__C': [0.01, 0.1, 1, 10, 100]\n",
    "}\n",
    "\n",
    "# max_iter sets the maximum number of iterations \n",
    "# taken for the solvers to converge\n",
    "\n",
    "# C controls the regularization strength. \n",
    "# smaller values specifiy stronger regularization.\n",
    "\n",
    "clf = GridSearchCV(pipeline, param_grid, cv=5)\n",
    "\n",
    "clf.fit(X,y)\n",
    "\n",
    "# Best parameters and best score\n",
    "print(\"Best Parameters:\", clf.best_params_)\n",
    "print(\"Best Cross-Validation Score:\", clf.best_score_)"
   ]
  },
  {
   "cell_type": "code",
   "execution_count": 25,
   "metadata": {},
   "outputs": [
    {
     "name": "stderr",
     "output_type": "stream",
     "text": [
      "c:\\Users\\adeli\\AppData\\Local\\Programs\\Python\\Python312\\Lib\\site-packages\\sklearn\\linear_model\\_logistic.py:469: ConvergenceWarning: lbfgs failed to converge (status=1):\n",
      "STOP: TOTAL NO. of ITERATIONS REACHED LIMIT.\n",
      "\n",
      "Increase the number of iterations (max_iter) or scale the data as shown in:\n",
      "    https://scikit-learn.org/stable/modules/preprocessing.html\n",
      "Please also refer to the documentation for alternative solver options:\n",
      "    https://scikit-learn.org/stable/modules/linear_model.html#logistic-regression\n",
      "  n_iter_i = _check_optimize_result(\n"
     ]
    },
    {
     "data": {
      "text/plain": [
       "0.7071428571428572"
      ]
     },
     "execution_count": 25,
     "metadata": {},
     "output_type": "execute_result"
    }
   ],
   "source": [
    "# predict the labels for the test data\n",
    "\n",
    "clf = make_pipeline(StandardScaler(), LogisticRegression(C=100,max_iter=500))\n",
    "clf.fit(X,y)\n",
    "\n",
    "_y_test = clf.predict(X_test)\n",
    "\n",
    "accuracy_score(y_test,_y_test)"
   ]
  },
  {
   "cell_type": "markdown",
   "metadata": {},
   "source": [
    "### Training the classifier using RandomForest"
   ]
  },
  {
   "cell_type": "code",
   "execution_count": 15,
   "metadata": {},
   "outputs": [
    {
     "name": "stdout",
     "output_type": "stream",
     "text": [
      "Best Parameters: {'randomforestclassifier__max_depth': None, 'randomforestclassifier__n_estimators': 100}\n",
      "Best Cross-Validation Score: 0.7071221532091096\n"
     ]
    }
   ],
   "source": [
    "pipeline = make_pipeline(RandomForestClassifier(random_state=0))\n",
    "\n",
    "param_grid = {\n",
    "    'randomforestclassifier__n_estimators': [50, 100],\n",
    "    'randomforestclassifier__max_depth': [10, None]\n",
    "}\n",
    "\n",
    "# n_estimators controls the number of trees in the forest,\n",
    "# more trees improve performance, but also increase computation time\n",
    "\n",
    "# max_depth is used for the maximum depth of each tree.\n",
    "# smaller depth can help avoiding overfitting for small datasets.\n",
    "\n",
    "clf = GridSearchCV(pipeline, param_grid, cv=5)\n",
    "\n",
    "clf.fit(X,y)\n",
    "\n",
    "# Best parameters and best score\n",
    "print(\"Best Parameters:\", clf.best_params_)\n",
    "print(\"Best Cross-Validation Score:\", clf.best_score_)"
   ]
  },
  {
   "cell_type": "markdown",
   "metadata": {},
   "source": [
    "Decision trees are unaffected by the range of values so Random forests are insensitive to scaling or standardization, so it is useless to scale or standardize the data."
   ]
  },
  {
   "cell_type": "code",
   "execution_count": 20,
   "metadata": {},
   "outputs": [],
   "source": [
    "# predict the labels for the test data\n",
    "clf = RandomForestClassifier(max_depth=None, n_estimators=100)\n",
    "\n",
    "clf.fit(X,y)\n",
    "\n",
    "_y_test = clf.predict(X_test)"
   ]
  },
  {
   "cell_type": "code",
   "execution_count": 26,
   "metadata": {},
   "outputs": [
    {
     "data": {
      "text/plain": [
       "0.7071428571428572"
      ]
     },
     "execution_count": 26,
     "metadata": {},
     "output_type": "execute_result"
    }
   ],
   "source": [
    "accuracy_score(y_test,_y_test)"
   ]
  },
  {
   "cell_type": "markdown",
   "metadata": {},
   "source": [
    "### Training the classifier using Gaussian Naive Bayes"
   ]
  },
  {
   "cell_type": "code",
   "execution_count": 18,
   "metadata": {},
   "outputs": [
    {
     "name": "stdout",
     "output_type": "stream",
     "text": [
      "Best Parameters: {'gaussiannb__var_smoothing': 1e-09}\n",
      "Best Cross-Validation Score: 0.50175983436853\n"
     ]
    }
   ],
   "source": [
    "pipeline = make_pipeline(GaussianNB())\n",
    "\n",
    "param_grid = {\n",
    "    'gaussiannb__var_smoothing': [1e-9, 1e-8, 1e-7, 1e-6]  # Smoothing parameter\n",
    "}\n",
    "\n",
    "# adds a small value to the variance to prevent zero variance, \n",
    "# this helps to stabilize the model when data contains very small variances\n",
    "\n",
    "\n",
    "gnb = GridSearchCV(pipeline, param_grid, cv=5)\n",
    "\n",
    "gnb.fit(X,y)\n",
    "\n",
    "# Best parameters and best score\n",
    "print(\"Best Parameters:\", gnb.best_params_)\n",
    "print(\"Best Cross-Validation Score:\", gnb.best_score_)"
   ]
  },
  {
   "cell_type": "code",
   "execution_count": 21,
   "metadata": {},
   "outputs": [
    {
     "data": {
      "text/plain": [
       "0.5597354497354498"
      ]
     },
     "execution_count": 21,
     "metadata": {},
     "output_type": "execute_result"
    }
   ],
   "source": [
    "# predict the labels for the test data\n",
    "gnb = GaussianNB(var_smoothing=1e-9)\n",
    "\n",
    "gnb.fit(X,y)\n",
    "\n",
    "# predict the labels for the test data\n",
    "_y_test = gnb.predict(X_test)\n",
    "\n",
    "accuracy_score(y_test,_y_test)"
   ]
  }
 ],
 "metadata": {
  "kernelspec": {
   "display_name": "Python 3",
   "language": "python",
   "name": "python3"
  },
  "language_info": {
   "codemirror_mode": {
    "name": "ipython",
    "version": 3
   },
   "file_extension": ".py",
   "mimetype": "text/x-python",
   "name": "python",
   "nbconvert_exporter": "python",
   "pygments_lexer": "ipython3",
   "version": "3.12.2"
  }
 },
 "nbformat": 4,
 "nbformat_minor": 4
}
